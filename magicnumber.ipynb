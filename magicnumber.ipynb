{
 "cells": [
  {
   "cell_type": "code",
   "execution_count": null,
   "metadata": {},
   "outputs": [],
   "source": [
    "# connecting to blockchain\n",
    "from web3 import Web3\n",
    "from web3.middleware import geth_poa_middleware\n",
    "\n",
    "w3 = Web3(Web3.HTTPProvider('https://rinkeby.infura.io/v3/<id>'))\n",
    "w3.middleware_onion.inject(geth_poa_middleware, layer=0)\n",
    "\n",
    "print(w3.isConnected())"
   ]
  },
  {
   "cell_type": "code",
   "execution_count": null,
   "metadata": {},
   "outputs": [],
   "source": [
    "address = \"player\"\n",
    "sec_key = \"player secret key\"\n",
    "\n",
    "bytecode = \"600a600c600039600a6000f3602A60805260206080f3\"\n",
    "abi = \"\"\"[\n",
    "\t{\n",
    "\t\t\"inputs\": [],\n",
    "\t\t\"name\": \"whatIsTheMeaningOfLife\",\n",
    "\t\t\"outputs\": [\n",
    "\t\t\t{\n",
    "\t\t\t\t\"internalType\": \"uint256\",\n",
    "\t\t\t\t\"name\": \"\",\n",
    "\t\t\t\t\"type\": \"uint256\"\n",
    "\t\t\t}\n",
    "\t\t],\n",
    "\t\t\"stateMutability\": \"view\",\n",
    "\t\t\"type\": \"function\"\n",
    "\t}\n",
    "]\"\"\"\n",
    "\n",
    "# Create our contract class.\n",
    "MagicNumber = w3.eth.contract(abi=abi, bytecode=bytecode)\n",
    "# issue a transaction to deploy the contract.\n",
    "transaction = MagicNumber.constructor().buildTransaction()\n",
    "transaction.update({'nonce': w3.eth.get_transaction_count(address)})\n",
    "signed_tx = w3.eth.account.sign_transaction(transaction, sec_key)\n",
    "\n",
    "txn_hash = w3.eth.send_raw_transaction(signed_tx.rawTransaction)\n",
    "txn_receipt = w3.eth.wait_for_transaction_receipt(txn_hash)\n",
    "print(txn_receipt)"
   ]
  }
 ],
 "metadata": {
  "language_info": {
   "name": "python"
  },
  "orig_nbformat": 4
 },
 "nbformat": 4,
 "nbformat_minor": 2
}
