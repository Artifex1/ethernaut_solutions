{
 "cells": [
  {
   "cell_type": "code",
   "execution_count": null,
   "metadata": {},
   "outputs": [],
   "source": [
    "# connecting to blockchain\n",
    "from web3 import Web3\n",
    "from web3.middleware import geth_poa_middleware\n",
    "\n",
    "w3 = Web3(Web3.HTTPProvider('https://rinkeby.infura.io/v3/<id>'))\n",
    "w3.middleware_onion.inject(geth_poa_middleware, layer=0)\n",
    "\n",
    "print(w3.isConnected())"
   ]
  },
  {
   "cell_type": "code",
   "execution_count": null,
   "metadata": {},
   "outputs": [],
   "source": [
    "def get_guess():\n",
    "    current_hash = str(w3.eth.get_block('latest')[\"hash\"].hex())\n",
    "    print(current_hash)\n",
    "    current_hash = current_hash[2:3]\n",
    "    if current_hash.lower() in [\"8\", \"9\", \"a\", \"b\", \"c\", \"d\", \"e\", \"f\"]:\n",
    "        return True\n",
    "    else:\n",
    "        return False"
   ]
  },
  {
   "cell_type": "code",
   "execution_count": null,
   "metadata": {},
   "outputs": [],
   "source": [
    "contract_address = \"0xBD3015Fd34047Ac9f7d5eFE29A3724E30971ed09\"\n",
    "contract_abi = \"\"\"[\n",
    "  {\n",
    "    \"inputs\": [],\n",
    "    \"stateMutability\": \"nonpayable\",\n",
    "    \"type\": \"constructor\"\n",
    "  },\n",
    "  {\n",
    "    \"inputs\": [],\n",
    "    \"name\": \"consecutiveWins\",\n",
    "    \"outputs\": [\n",
    "      {\n",
    "        \"internalType\": \"uint256\",\n",
    "        \"name\": \"\",\n",
    "        \"type\": \"uint256\"\n",
    "      }\n",
    "    ],\n",
    "    \"stateMutability\": \"view\",\n",
    "    \"type\": \"function\",\n",
    "    \"constant\": true,\n",
    "    \"signature\": \"0xe6f334d7\"\n",
    "  },\n",
    "  {\n",
    "    \"inputs\": [\n",
    "      {\n",
    "        \"internalType\": \"bool\",\n",
    "        \"name\": \"_guess\",\n",
    "        \"type\": \"bool\"\n",
    "      }\n",
    "    ],\n",
    "    \"name\": \"flip\",\n",
    "    \"outputs\": [\n",
    "      {\n",
    "        \"internalType\": \"bool\",\n",
    "        \"name\": \"\",\n",
    "        \"type\": \"bool\"\n",
    "      }\n",
    "    ],\n",
    "    \"stateMutability\": \"nonpayable\",\n",
    "    \"type\": \"function\",\n",
    "    \"signature\": \"0x1d263f67\"\n",
    "  }\n",
    "]\"\"\"\n",
    "\n",
    "contract = w3.eth.contract(address=contract_address, abi=contract_abi)\n",
    "\n",
    "address = \"player\"\n",
    "sec_key = \"player secret key\"\n",
    "\n",
    "guess = get_guess()\n",
    "transaction = contract.functions.flip(guess).buildTransaction()\n",
    "transaction.update({ 'gas' : 150000 })\n",
    "transaction.update({'nonce': w3.eth.get_transaction_count(address)})\n",
    "signed_tx = w3.eth.account.sign_transaction(transaction, sec_key)\n",
    "\n",
    "txn_hash = w3.eth.send_raw_transaction(signed_tx.rawTransaction)\n",
    "txn_receipt = w3.eth.wait_for_transaction_receipt(txn_hash)\n",
    "print(txn_receipt)"
   ]
  },
  {
   "cell_type": "code",
   "execution_count": null,
   "metadata": {},
   "outputs": [],
   "source": [
    "print(contract.functions.consecutiveWins().call())"
   ]
  }
 ],
 "metadata": {
  "interpreter": {
   "hash": "63fd5069d213b44bf678585dea6b12cceca9941eaf7f819626cde1f2670de90d"
  },
  "kernelspec": {
   "display_name": "Python 3.9.2 64-bit",
   "name": "python3"
  },
  "language_info": {
   "codemirror_mode": {
    "name": "ipython",
    "version": 3
   },
   "file_extension": ".py",
   "mimetype": "text/x-python",
   "name": "python",
   "nbconvert_exporter": "python",
   "pygments_lexer": "ipython3",
   "version": "3.9.2"
  },
  "orig_nbformat": 4
 },
 "nbformat": 4,
 "nbformat_minor": 2
}
